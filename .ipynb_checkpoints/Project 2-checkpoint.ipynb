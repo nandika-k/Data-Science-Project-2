{
 "cells": [
  {
   "cell_type": "markdown",
   "id": "40ac93f4-fd90-4b47-924d-6141dbe483d8",
   "metadata": {},
   "source": [
    "## Imports"
   ]
  },
  {
   "cell_type": "code",
   "execution_count": 2,
   "id": "7de07183-419d-4687-abe6-aace12295c11",
   "metadata": {},
   "outputs": [],
   "source": [
    "import numpy as np\n",
    "import pandas as pd\n",
    "import seaborn as sns"
   ]
  },
  {
   "cell_type": "markdown",
   "id": "9a0433b0-7a94-4f6c-b610-357fbad1d714",
   "metadata": {},
   "source": [
    "## EDA"
   ]
  },
  {
   "cell_type": "markdown",
   "id": "fc6156c4-6fbf-4280-ab19-38e7cc772fa6",
   "metadata": {},
   "source": [
    "## Preprocessing"
   ]
  },
  {
   "cell_type": "markdown",
   "id": "a28500a4-6ccc-4874-8d7d-1b913334b191",
   "metadata": {},
   "source": [
    "## Model 1: "
   ]
  },
  {
   "cell_type": "markdown",
   "id": "69a5b3c0-83ec-4678-a9c3-f43a7e6b6aa5",
   "metadata": {},
   "source": [
    "## Model 2:"
   ]
  },
  {
   "cell_type": "markdown",
   "id": "41ce79ae-d254-4ffc-bf66-3697c207f801",
   "metadata": {},
   "source": [
    "## Final Comparisons"
   ]
  },
  {
   "cell_type": "code",
   "execution_count": null,
   "id": "ac659f1a-1c0c-418c-b090-3a2128c49e93",
   "metadata": {},
   "outputs": [],
   "source": []
  }
 ],
 "metadata": {
  "kernelspec": {
   "display_name": "Python 3 (ipykernel)",
   "language": "python",
   "name": "python3"
  },
  "language_info": {
   "codemirror_mode": {
    "name": "ipython",
    "version": 3
   },
   "file_extension": ".py",
   "mimetype": "text/x-python",
   "name": "python",
   "nbconvert_exporter": "python",
   "pygments_lexer": "ipython3",
   "version": "3.11.11"
  }
 },
 "nbformat": 4,
 "nbformat_minor": 5
}
