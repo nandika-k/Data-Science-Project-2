{
 "cells": [
  {
   "cell_type": "markdown",
   "id": "67f8690b-aa4e-48fc-8d1c-7bc423e52684",
   "metadata": {},
   "source": [
    "## Imports"
   ]
  },
  {
   "cell_type": "code",
   "execution_count": 1,
   "id": "66a59d29-c4d6-4c5e-969e-be5d1653e3f5",
   "metadata": {},
   "outputs": [],
   "source": [
    "import pandas as pd\n",
    "import numpy as np\n",
    "import seaborn as sns\n",
    "\n",
    "#import matplotlib.pyplot as plt"
   ]
  },
  {
   "cell_type": "markdown",
   "id": "4682d381-a11e-4297-b183-9ee9a4c56bf8",
   "metadata": {},
   "source": [
    "## Exploratory Data Analysis"
   ]
  },
  {
   "cell_type": "markdown",
   "id": "af339d41-4c77-43ab-aa10-febe008e7017",
   "metadata": {},
   "source": [
    "## Preprocessing"
   ]
  },
  {
   "cell_type": "markdown",
   "id": "919bbeb4-71f2-49b4-b1f4-387298015d24",
   "metadata": {},
   "source": [
    "## Model 1: "
   ]
  },
  {
   "cell_type": "markdown",
   "id": "8b5c252e-0eff-4b62-9a0c-72225f451858",
   "metadata": {},
   "source": [
    "## Model 2:"
   ]
  },
  {
   "cell_type": "markdown",
   "id": "b3f5499b-887a-4d31-bca9-c41ffaecfc7a",
   "metadata": {},
   "source": [
    "## Comparisons"
   ]
  }
 ],
 "metadata": {
  "kernelspec": {
   "display_name": "Python 3 (ipykernel)",
   "language": "python",
   "name": "python3"
  },
  "language_info": {
   "codemirror_mode": {
    "name": "ipython",
    "version": 3
   },
   "file_extension": ".py",
   "mimetype": "text/x-python",
   "name": "python",
   "nbconvert_exporter": "python",
   "pygments_lexer": "ipython3",
   "version": "3.11.11"
  }
 },
 "nbformat": 4,
 "nbformat_minor": 5
}
